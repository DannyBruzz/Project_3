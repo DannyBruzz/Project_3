{
 "cells": [
  {
   "cell_type": "code",
   "execution_count": 1,
   "id": "983ec8fa",
   "metadata": {},
   "outputs": [],
   "source": [
    "import requests\n",
    "import os\n",
    "from splinter import Browser\n",
    "import pandas as pd\n",
    "from webdriver_manager.chrome import ChromeDriverManager\n",
    "from bs4 import BeautifulSoup"
   ]
  },
  {
   "cell_type": "code",
   "execution_count": 2,
   "id": "37a22bdb",
   "metadata": {},
   "outputs": [
    {
     "name": "stderr",
     "output_type": "stream",
     "text": [
      "[WDM] - Downloading: 100%|█████████████████████████████████████████████████████████████████████████████████████████████████████████████████████████████████████████████████████████████████████████████| 6.29M/6.29M [00:03<00:00, 1.94MB/s]\n"
     ]
    }
   ],
   "source": [
    "executable_path = {'executable_path': ChromeDriverManager().install()}\n",
    "browser = Browser('chrome', **executable_path, headless=False)"
   ]
  },
  {
   "cell_type": "code",
   "execution_count": 3,
   "id": "efdb3320",
   "metadata": {},
   "outputs": [
    {
     "data": {
      "text/html": [
       "<div>\n",
       "<style scoped>\n",
       "    .dataframe tbody tr th:only-of-type {\n",
       "        vertical-align: middle;\n",
       "    }\n",
       "\n",
       "    .dataframe tbody tr th {\n",
       "        vertical-align: top;\n",
       "    }\n",
       "\n",
       "    .dataframe thead th {\n",
       "        text-align: right;\n",
       "    }\n",
       "</style>\n",
       "<table border=\"1\" class=\"dataframe\">\n",
       "  <thead>\n",
       "    <tr style=\"text-align: right;\">\n",
       "      <th></th>\n",
       "      <th>Country</th>\n",
       "      <th>Export value $USB</th>\n",
       "    </tr>\n",
       "  </thead>\n",
       "  <tbody>\n",
       "    <tr>\n",
       "      <th>0</th>\n",
       "      <td>United Kingdom</td>\n",
       "      <td>8.25</td>\n",
       "    </tr>\n",
       "    <tr>\n",
       "      <th>1</th>\n",
       "      <td>United States</td>\n",
       "      <td>2.75</td>\n",
       "    </tr>\n",
       "    <tr>\n",
       "      <th>2</th>\n",
       "      <td>Switzerland</td>\n",
       "      <td>1.63</td>\n",
       "    </tr>\n",
       "    <tr>\n",
       "      <th>3</th>\n",
       "      <td>Hong Kong</td>\n",
       "      <td>1.29</td>\n",
       "    </tr>\n",
       "    <tr>\n",
       "      <th>4</th>\n",
       "      <td>China</td>\n",
       "      <td>1.13</td>\n",
       "    </tr>\n",
       "  </tbody>\n",
       "</table>\n",
       "</div>"
      ],
      "text/plain": [
       "            Country Export value $USB\n",
       "0   United Kingdom               8.25\n",
       "1    United States               2.75\n",
       "2      Switzerland               1.63\n",
       "3        Hong Kong               1.29\n",
       "4            China               1.13"
      ]
     },
     "execution_count": 3,
     "metadata": {},
     "output_type": "execute_result"
    }
   ],
   "source": [
    "url = 'https://oec.world/en/profile/bilateral-product/gold/reporter/aus?latestTrendsViewSelector=latestTrendsViewOption0'\n",
    "browser.visit(url)\n",
    "html = browser.html\n",
    "soup = BeautifulSoup(html, \"html.parser\")\n",
    "country_list = []\n",
    "text_area = soup.find(\"p\", class_=\"cp-section-paragraph cp-multi-column-section-paragraph\")\n",
    "paragragh =  text_area.text\n",
    "links = text_area.find_all(\"a\")\n",
    "for link in links:\n",
    "    country_list.append(link.text)\n",
    "browser.quit()\n",
    "country_list1 = country_list[-5:]\n",
    "data = []\n",
    "for ix, char in enumerate(paragragh):\n",
    "    if char == '(':\n",
    "        data.append(paragragh[ix+2 : ix+6])\n",
    "gold_df = pd.DataFrame({\"Country\":country_list1, \"Export value $USB\": data})\n",
    "gold_df"
   ]
  },
  {
   "cell_type": "code",
   "execution_count": 4,
   "id": "8557aab5",
   "metadata": {},
   "outputs": [],
   "source": [
    "gold_df.to_csv(\"Output/gold.csv\", index=False, header = True)"
   ]
  },
  {
   "cell_type": "code",
   "execution_count": null,
   "id": "f899c572",
   "metadata": {},
   "outputs": [],
   "source": []
  },
  {
   "cell_type": "code",
   "execution_count": null,
   "id": "a8a93177",
   "metadata": {},
   "outputs": [],
   "source": []
  },
  {
   "cell_type": "code",
   "execution_count": 5,
   "id": "7bb893f3",
   "metadata": {},
   "outputs": [],
   "source": [
    "executable_path = {'executable_path': ChromeDriverManager().install()}\n",
    "browser = Browser('chrome', **executable_path, headless=False)"
   ]
  },
  {
   "cell_type": "code",
   "execution_count": 6,
   "id": "f0dedd30",
   "metadata": {},
   "outputs": [
    {
     "data": {
      "text/html": [
       "<div>\n",
       "<style scoped>\n",
       "    .dataframe tbody tr th:only-of-type {\n",
       "        vertical-align: middle;\n",
       "    }\n",
       "\n",
       "    .dataframe tbody tr th {\n",
       "        vertical-align: top;\n",
       "    }\n",
       "\n",
       "    .dataframe thead th {\n",
       "        text-align: right;\n",
       "    }\n",
       "</style>\n",
       "<table border=\"1\" class=\"dataframe\">\n",
       "  <thead>\n",
       "    <tr style=\"text-align: right;\">\n",
       "      <th></th>\n",
       "      <th>Country</th>\n",
       "      <th>Export value $USM</th>\n",
       "    </tr>\n",
       "  </thead>\n",
       "  <tbody>\n",
       "    <tr>\n",
       "      <th>0</th>\n",
       "      <td>India</td>\n",
       "      <td>64.6</td>\n",
       "    </tr>\n",
       "    <tr>\n",
       "      <th>1</th>\n",
       "      <td>Hong Kong</td>\n",
       "      <td>28.2</td>\n",
       "    </tr>\n",
       "    <tr>\n",
       "      <th>2</th>\n",
       "      <td>New Zealand</td>\n",
       "      <td>28.2</td>\n",
       "    </tr>\n",
       "    <tr>\n",
       "      <th>3</th>\n",
       "      <td>Switzerland</td>\n",
       "      <td>11.2</td>\n",
       "    </tr>\n",
       "    <tr>\n",
       "      <th>4</th>\n",
       "      <td>Canada</td>\n",
       "      <td>8.44</td>\n",
       "    </tr>\n",
       "  </tbody>\n",
       "</table>\n",
       "</div>"
      ],
      "text/plain": [
       "         Country Export value $USM\n",
       "0         India               64.6\n",
       "1     Hong Kong               28.2\n",
       "2   New Zealand               28.2\n",
       "3   Switzerland               11.2\n",
       "4        Canada               8.44"
      ]
     },
     "execution_count": 6,
     "metadata": {},
     "output_type": "execute_result"
    }
   ],
   "source": [
    "silver_url = 'https://oec.world/en/profile/bilateral-product/silver/reporter/aus'\n",
    "browser.visit(silver_url)\n",
    "html = browser.html\n",
    "soup = BeautifulSoup(html, \"html.parser\")\n",
    "country_list = []\n",
    "text_area = soup.find(\"p\", class_=\"cp-section-paragraph cp-multi-column-section-paragraph\")\n",
    "paragragh =  text_area.text\n",
    "links = text_area.find_all(\"a\")\n",
    "for link in links:\n",
    "    country_list.append(link.text)\n",
    "browser.quit()\n",
    "country_list1 = country_list[-5:]\n",
    "data = []\n",
    "for ix, char in enumerate(paragragh):\n",
    "    if char == '(':\n",
    "        data.append(paragragh[ix+2 : ix+6])\n",
    "silver_df = pd.DataFrame({\"Country\":country_list1, \"Export value $USM\": data})\n",
    "silver_df"
   ]
  },
  {
   "cell_type": "code",
   "execution_count": 7,
   "id": "94a6eb9f",
   "metadata": {},
   "outputs": [],
   "source": [
    "silver_df.to_csv(\"Output/silver.csv\", index=False, header = True)"
   ]
  },
  {
   "cell_type": "code",
   "execution_count": 8,
   "id": "214e8239",
   "metadata": {},
   "outputs": [],
   "source": [
    "executable_path = {'executable_path': ChromeDriverManager().install()}\n",
    "browser = Browser('chrome', **executable_path, headless=False)"
   ]
  },
  {
   "cell_type": "code",
   "execution_count": 9,
   "id": "51348f5e",
   "metadata": {},
   "outputs": [
    {
     "data": {
      "text/html": [
       "<div>\n",
       "<style scoped>\n",
       "    .dataframe tbody tr th:only-of-type {\n",
       "        vertical-align: middle;\n",
       "    }\n",
       "\n",
       "    .dataframe tbody tr th {\n",
       "        vertical-align: top;\n",
       "    }\n",
       "\n",
       "    .dataframe thead th {\n",
       "        text-align: right;\n",
       "    }\n",
       "</style>\n",
       "<table border=\"1\" class=\"dataframe\">\n",
       "  <thead>\n",
       "    <tr style=\"text-align: right;\">\n",
       "      <th></th>\n",
       "      <th>Country</th>\n",
       "      <th>Export value $USB</th>\n",
       "    </tr>\n",
       "  </thead>\n",
       "  <tbody>\n",
       "    <tr>\n",
       "      <th>0</th>\n",
       "      <td>China</td>\n",
       "      <td>63.9</td>\n",
       "    </tr>\n",
       "    <tr>\n",
       "      <th>1</th>\n",
       "      <td>Japan</td>\n",
       "      <td>4.43</td>\n",
       "    </tr>\n",
       "    <tr>\n",
       "      <th>2</th>\n",
       "      <td>South Korea</td>\n",
       "      <td>4.35</td>\n",
       "    </tr>\n",
       "    <tr>\n",
       "      <th>3</th>\n",
       "      <td>Singapore</td>\n",
       "      <td>2.13</td>\n",
       "    </tr>\n",
       "    <tr>\n",
       "      <th>4</th>\n",
       "      <td>Hong Kong</td>\n",
       "      <td>1.94</td>\n",
       "    </tr>\n",
       "  </tbody>\n",
       "</table>\n",
       "</div>"
      ],
      "text/plain": [
       "         Country Export value $USB\n",
       "0         China               63.9\n",
       "1         Japan               4.43\n",
       "2   South Korea               4.35\n",
       "3     Singapore               2.13\n",
       "4     Hong Kong               1.94"
      ]
     },
     "execution_count": 9,
     "metadata": {},
     "output_type": "execute_result"
    }
   ],
   "source": [
    "iron_url = 'https://oec.world/en/profile/bilateral-product/iron-ore/reporter/aus'\n",
    "browser.visit(iron_url)\n",
    "html = browser.html\n",
    "soup = BeautifulSoup(html, \"html.parser\")\n",
    "country_list = []\n",
    "text_area = soup.find(\"p\", class_=\"cp-section-paragraph cp-multi-column-section-paragraph\")\n",
    "paragragh =  text_area.text\n",
    "links = text_area.find_all(\"a\")\n",
    "for link in links:\n",
    "    country_list.append(link.text)\n",
    "browser.quit()\n",
    "country_list1 = country_list[-5:]\n",
    "data = []\n",
    "for ix, char in enumerate(paragragh):\n",
    "    if char == '(':\n",
    "        data.append(paragragh[ix+2 : ix+6])\n",
    "iron_df = pd.DataFrame({\"Country\":country_list1, \"Export value $USB\": data})\n",
    "iron_df"
   ]
  },
  {
   "cell_type": "code",
   "execution_count": 10,
   "id": "926130d8",
   "metadata": {},
   "outputs": [],
   "source": [
    "iron_df.to_csv(\"Output/iron.csv\", index=False, header = True)"
   ]
  },
  {
   "cell_type": "code",
   "execution_count": 11,
   "id": "d280f56b",
   "metadata": {
    "scrolled": true
   },
   "outputs": [],
   "source": [
    "executable_path = {'executable_path': ChromeDriverManager().install()}\n",
    "browser = Browser('chrome', **executable_path, headless=False)\n"
   ]
  },
  {
   "cell_type": "code",
   "execution_count": 12,
   "id": "04da6f09",
   "metadata": {},
   "outputs": [
    {
     "data": {
      "text/html": [
       "<div>\n",
       "<style scoped>\n",
       "    .dataframe tbody tr th:only-of-type {\n",
       "        vertical-align: middle;\n",
       "    }\n",
       "\n",
       "    .dataframe tbody tr th {\n",
       "        vertical-align: top;\n",
       "    }\n",
       "\n",
       "    .dataframe thead th {\n",
       "        text-align: right;\n",
       "    }\n",
       "</style>\n",
       "<table border=\"1\" class=\"dataframe\">\n",
       "  <thead>\n",
       "    <tr style=\"text-align: right;\">\n",
       "      <th></th>\n",
       "      <th>Country</th>\n",
       "      <th>Export value $USB</th>\n",
       "    </tr>\n",
       "  </thead>\n",
       "  <tbody>\n",
       "    <tr>\n",
       "      <th>0</th>\n",
       "      <td>China</td>\n",
       "      <td>1.38</td>\n",
       "    </tr>\n",
       "    <tr>\n",
       "      <th>1</th>\n",
       "      <td>Japan</td>\n",
       "      <td>1.13</td>\n",
       "    </tr>\n",
       "    <tr>\n",
       "      <th>2</th>\n",
       "      <td>South Korea</td>\n",
       "      <td>0.656</td>\n",
       "    </tr>\n",
       "    <tr>\n",
       "      <th>3</th>\n",
       "      <td>India</td>\n",
       "      <td>0.212</td>\n",
       "    </tr>\n",
       "    <tr>\n",
       "      <th>4</th>\n",
       "      <td>Chinese Taipei</td>\n",
       "      <td>0.150</td>\n",
       "    </tr>\n",
       "  </tbody>\n",
       "</table>\n",
       "</div>"
      ],
      "text/plain": [
       "            Country Export value $USB\n",
       "0            China               1.38\n",
       "1            Japan               1.13\n",
       "2      South Korea              0.656\n",
       "3            India              0.212\n",
       "4   Chinese Taipei              0.150"
      ]
     },
     "execution_count": 12,
     "metadata": {},
     "output_type": "execute_result"
    }
   ],
   "source": [
    "copper_url = 'https://oec.world/en/profile/bilateral-product/copper-ore/reporter/aus'\n",
    "browser.visit(copper_url)\n",
    "html = browser.html\n",
    "soup = BeautifulSoup(html, \"html.parser\")\n",
    "country_list = []\n",
    "text_area = soup.find(\"p\", class_=\"cp-section-paragraph cp-multi-column-section-paragraph\")\n",
    "paragragh =  text_area.text\n",
    "links = text_area.find_all(\"a\")\n",
    "for link in links:\n",
    "    country_list.append(link.text)\n",
    "browser.quit()\n",
    "country_list1 = country_list[-5:]\n",
    "data = []\n",
    "for ix, char in enumerate(paragragh):\n",
    "    if char == '(':\n",
    "        data.append(paragragh[ix+2 : ix+6])\n",
    "copper_df = pd.DataFrame({\"Country\":country_list1, \"Export value $USB\": data})\n",
    "copper_df[\"Export value $USB\"] = copper_df[\"Export value $USB\"].replace({\"656M\": \"0.656\", \"212M\": \"0.212\", \"150M\":\"0.150\"})\n",
    "copper_df"
   ]
  },
  {
   "cell_type": "code",
   "execution_count": 13,
   "id": "6b48fb47",
   "metadata": {},
   "outputs": [],
   "source": [
    "copper_df.to_csv(\"Output/copper.csv\", index=False, header = True)"
   ]
  },
  {
   "cell_type": "code",
   "execution_count": 14,
   "id": "16e14846",
   "metadata": {},
   "outputs": [],
   "source": [
    "executable_path = {'executable_path': ChromeDriverManager().install()}\n",
    "browser = Browser('chrome', **executable_path, headless=False)"
   ]
  },
  {
   "cell_type": "code",
   "execution_count": 15,
   "id": "13c98d39",
   "metadata": {},
   "outputs": [
    {
     "data": {
      "text/html": [
       "<div>\n",
       "<style scoped>\n",
       "    .dataframe tbody tr th:only-of-type {\n",
       "        vertical-align: middle;\n",
       "    }\n",
       "\n",
       "    .dataframe tbody tr th {\n",
       "        vertical-align: top;\n",
       "    }\n",
       "\n",
       "    .dataframe thead th {\n",
       "        text-align: right;\n",
       "    }\n",
       "</style>\n",
       "<table border=\"1\" class=\"dataframe\">\n",
       "  <thead>\n",
       "    <tr style=\"text-align: right;\">\n",
       "      <th></th>\n",
       "      <th>Country</th>\n",
       "      <th>Export value $USM</th>\n",
       "    </tr>\n",
       "  </thead>\n",
       "  <tbody>\n",
       "    <tr>\n",
       "      <th>0</th>\n",
       "      <td>South Korea</td>\n",
       "      <td>290</td>\n",
       "    </tr>\n",
       "    <tr>\n",
       "      <th>1</th>\n",
       "      <td>China</td>\n",
       "      <td>169</td>\n",
       "    </tr>\n",
       "    <tr>\n",
       "      <th>2</th>\n",
       "      <td>Japan</td>\n",
       "      <td>68.9</td>\n",
       "    </tr>\n",
       "    <tr>\n",
       "      <th>3</th>\n",
       "      <td>Chinese Taipei</td>\n",
       "      <td>10.5</td>\n",
       "    </tr>\n",
       "    <tr>\n",
       "      <th>4</th>\n",
       "      <td>Chile</td>\n",
       "      <td>0.000249</td>\n",
       "    </tr>\n",
       "  </tbody>\n",
       "</table>\n",
       "</div>"
      ],
      "text/plain": [
       "            Country Export value $USM\n",
       "0      South Korea                290\n",
       "1            China                169\n",
       "2            Japan               68.9\n",
       "3   Chinese Taipei               10.5\n",
       "4            Chile           0.000249"
      ]
     },
     "execution_count": 15,
     "metadata": {},
     "output_type": "execute_result"
    }
   ],
   "source": [
    "lead_url = 'https://oec.world/en/profile/bilateral-product/lead-ore/reporter/aus'\n",
    "browser.visit(lead_url)\n",
    "html = browser.html\n",
    "soup = BeautifulSoup(html, \"html.parser\")\n",
    "country_list = []\n",
    "text_area = soup.find(\"p\", class_=\"cp-section-paragraph cp-multi-column-section-paragraph\")\n",
    "paragragh =  text_area.text\n",
    "links = text_area.find_all(\"a\")\n",
    "for link in links:\n",
    "    country_list.append(link.text)\n",
    "browser.quit()\n",
    "country_list1 = country_list[-5:]\n",
    "data = []\n",
    "for ix, char in enumerate(paragragh):\n",
    "    if char == '(':\n",
    "        data.append(paragragh[ix+2 : ix+6])\n",
    "lead_df = pd.DataFrame({\"Country\":country_list1, \"Export value $USM\": data})\n",
    "lead_df[\"Export value $USM\"] = lead_df[\"Export value $USM\"].replace({\"290M\": \"290\", \"169M\": \"169\", \"249)\":\"0.000249\"})\n",
    "lead_df"
   ]
  },
  {
   "cell_type": "code",
   "execution_count": 16,
   "id": "c279dc44",
   "metadata": {},
   "outputs": [],
   "source": [
    "lead_df.to_csv(\"Output/lead.csv\", index=False, header = True)"
   ]
  },
  {
   "cell_type": "code",
   "execution_count": null,
   "id": "36953ef2",
   "metadata": {},
   "outputs": [],
   "source": []
  },
  {
   "cell_type": "code",
   "execution_count": 17,
   "id": "97d77326",
   "metadata": {},
   "outputs": [],
   "source": [
    "executable_path = {'executable_path': ChromeDriverManager().install()}\n",
    "browser = Browser('chrome', **executable_path, headless=False)"
   ]
  },
  {
   "cell_type": "code",
   "execution_count": 18,
   "id": "0e33c0dd",
   "metadata": {},
   "outputs": [
    {
     "name": "stdout",
     "output_type": "stream",
     "text": [
      "[' China ', ' South Korea ', ' Japan ', ' Spain ', ' Germany ']\n"
     ]
    },
    {
     "data": {
      "text/html": [
       "<div>\n",
       "<style scoped>\n",
       "    .dataframe tbody tr th:only-of-type {\n",
       "        vertical-align: middle;\n",
       "    }\n",
       "\n",
       "    .dataframe tbody tr th {\n",
       "        vertical-align: top;\n",
       "    }\n",
       "\n",
       "    .dataframe thead th {\n",
       "        text-align: right;\n",
       "    }\n",
       "</style>\n",
       "<table border=\"1\" class=\"dataframe\">\n",
       "  <thead>\n",
       "    <tr style=\"text-align: right;\">\n",
       "      <th></th>\n",
       "      <th>Country</th>\n",
       "      <th>Export value $USM</th>\n",
       "    </tr>\n",
       "  </thead>\n",
       "  <tbody>\n",
       "    <tr>\n",
       "      <th>0</th>\n",
       "      <td>China</td>\n",
       "      <td>817</td>\n",
       "    </tr>\n",
       "    <tr>\n",
       "      <th>1</th>\n",
       "      <td>South Korea</td>\n",
       "      <td>293</td>\n",
       "    </tr>\n",
       "    <tr>\n",
       "      <th>2</th>\n",
       "      <td>Japan</td>\n",
       "      <td>85.1</td>\n",
       "    </tr>\n",
       "    <tr>\n",
       "      <th>3</th>\n",
       "      <td>Spain</td>\n",
       "      <td>71</td>\n",
       "    </tr>\n",
       "    <tr>\n",
       "      <th>4</th>\n",
       "      <td>Germany</td>\n",
       "      <td>54.7</td>\n",
       "    </tr>\n",
       "  </tbody>\n",
       "</table>\n",
       "</div>"
      ],
      "text/plain": [
       "         Country Export value $USM\n",
       "0         China                817\n",
       "1   South Korea                293\n",
       "2         Japan               85.1\n",
       "3         Spain                 71\n",
       "4       Germany               54.7"
      ]
     },
     "execution_count": 18,
     "metadata": {},
     "output_type": "execute_result"
    }
   ],
   "source": [
    "zinc_url = 'https://oec.world/en/profile/bilateral-product/zinc-ore/reporter/aus'\n",
    "browser.visit(zinc_url)\n",
    "html = browser.html\n",
    "soup = BeautifulSoup(html, \"html.parser\")\n",
    "country_list = []\n",
    "text_area = soup.find(\"p\", class_=\"cp-section-paragraph cp-multi-column-section-paragraph\")\n",
    "paragragh =  text_area.text\n",
    "links = text_area.find_all(\"a\")\n",
    "for link in links:\n",
    "    country_list.append(link.text)\n",
    "browser.quit()\n",
    "country_list1 = country_list[-5:]\n",
    "print(country_list1)\n",
    "data = []\n",
    "for ix, char in enumerate(paragragh):\n",
    "    if char == '(':\n",
    "        data.append(paragragh[ix+2 : ix+6])\n",
    "zinc_df = pd.DataFrame({\"Country\":country_list1, \"Export value $USM\": data})\n",
    "zinc_df[\"Export value $USM\"] = zinc_df[\"Export value $USM\"].replace({\"817M\": \"817\", \"293M\": \"293\", \"71M)\":\"71\"})\n",
    "zinc_df"
   ]
  },
  {
   "cell_type": "code",
   "execution_count": 19,
   "id": "0f242828",
   "metadata": {},
   "outputs": [],
   "source": [
    "zinc_df.to_csv(\"Output/zinc.csv\", index=False, header = True)"
   ]
  },
  {
   "cell_type": "code",
   "execution_count": null,
   "id": "f0ff5823",
   "metadata": {},
   "outputs": [],
   "source": []
  },
  {
   "cell_type": "code",
   "execution_count": 20,
   "id": "4b7885be",
   "metadata": {},
   "outputs": [],
   "source": [
    "executable_path = {'executable_path': ChromeDriverManager().install()}\n",
    "browser = Browser('chrome', **executable_path, headless=False)"
   ]
  },
  {
   "cell_type": "code",
   "execution_count": 21,
   "id": "1ab72e0b",
   "metadata": {},
   "outputs": [
    {
     "name": "stdout",
     "output_type": "stream",
     "text": [
      "[' China ', ' Norway ', ' Indonesia ', ' Serbia ', ' Malaysia ']\n"
     ]
    },
    {
     "data": {
      "text/html": [
       "<div>\n",
       "<style scoped>\n",
       "    .dataframe tbody tr th:only-of-type {\n",
       "        vertical-align: middle;\n",
       "    }\n",
       "\n",
       "    .dataframe tbody tr th {\n",
       "        vertical-align: top;\n",
       "    }\n",
       "\n",
       "    .dataframe thead th {\n",
       "        text-align: right;\n",
       "    }\n",
       "</style>\n",
       "<table border=\"1\" class=\"dataframe\">\n",
       "  <thead>\n",
       "    <tr style=\"text-align: right;\">\n",
       "      <th></th>\n",
       "      <th>Country</th>\n",
       "      <th>Export value $USM</th>\n",
       "    </tr>\n",
       "  </thead>\n",
       "  <tbody>\n",
       "    <tr>\n",
       "      <th>0</th>\n",
       "      <td>China</td>\n",
       "      <td>308</td>\n",
       "    </tr>\n",
       "    <tr>\n",
       "      <th>1</th>\n",
       "      <td>Norway</td>\n",
       "      <td>68.3</td>\n",
       "    </tr>\n",
       "    <tr>\n",
       "      <th>2</th>\n",
       "      <td>Indonesia</td>\n",
       "      <td>6.36</td>\n",
       "    </tr>\n",
       "    <tr>\n",
       "      <th>3</th>\n",
       "      <td>Serbia</td>\n",
       "      <td>1.63</td>\n",
       "    </tr>\n",
       "    <tr>\n",
       "      <th>4</th>\n",
       "      <td>Malaysia</td>\n",
       "      <td>1.18</td>\n",
       "    </tr>\n",
       "  </tbody>\n",
       "</table>\n",
       "</div>"
      ],
      "text/plain": [
       "       Country Export value $USM\n",
       "0       China                308\n",
       "1      Norway               68.3\n",
       "2   Indonesia               6.36\n",
       "3      Serbia               1.63\n",
       "4    Malaysia               1.18"
      ]
     },
     "execution_count": 21,
     "metadata": {},
     "output_type": "execute_result"
    }
   ],
   "source": [
    "nickel_url = 'https://oec.world/en/profile/bilateral-product/nickel-ore/reporter/aus'\n",
    "browser.visit(nickel_url)\n",
    "html = browser.html\n",
    "soup = BeautifulSoup(html, \"html.parser\")\n",
    "country_list = []\n",
    "text_area = soup.find(\"p\", class_=\"cp-section-paragraph cp-multi-column-section-paragraph\")\n",
    "paragragh =  text_area.text\n",
    "links = text_area.find_all(\"a\")\n",
    "for link in links:\n",
    "    country_list.append(link.text)\n",
    "browser.quit()\n",
    "country_list1 = country_list[-5:]\n",
    "print(country_list1)\n",
    "data = []\n",
    "for ix, char in enumerate(paragragh):\n",
    "    if char == '(':\n",
    "        data.append(paragragh[ix+2 : ix+6])\n",
    "nickel_df = pd.DataFrame({\"Country\":country_list1, \"Export value $USM\": data})\n",
    "nickel_df[\"Export value $USM\"] = nickel_df[\"Export value $USM\"].replace({\"308M\": \"308\"})\n",
    "nickel_df"
   ]
  },
  {
   "cell_type": "code",
   "execution_count": 22,
   "id": "353baa94",
   "metadata": {},
   "outputs": [],
   "source": [
    "nickel_df.to_csv(\"Output/nickel.csv\", index=False, header = True)"
   ]
  },
  {
   "cell_type": "code",
   "execution_count": null,
   "id": "059998f9",
   "metadata": {},
   "outputs": [],
   "source": []
  },
  {
   "cell_type": "code",
   "execution_count": 23,
   "id": "71457d31",
   "metadata": {},
   "outputs": [],
   "source": [
    "executable_path = {'executable_path': ChromeDriverManager().install()}\n",
    "browser = Browser('chrome', **executable_path, headless=False)"
   ]
  },
  {
   "cell_type": "code",
   "execution_count": 24,
   "id": "730f9540",
   "metadata": {},
   "outputs": [
    {
     "name": "stdout",
     "output_type": "stream",
     "text": [
      "[' China ', ' South Korea ', ' India ', ' Malaysia ', ' Japan ']\n"
     ]
    },
    {
     "data": {
      "text/html": [
       "<div>\n",
       "<style scoped>\n",
       "    .dataframe tbody tr th:only-of-type {\n",
       "        vertical-align: middle;\n",
       "    }\n",
       "\n",
       "    .dataframe tbody tr th {\n",
       "        vertical-align: top;\n",
       "    }\n",
       "\n",
       "    .dataframe thead th {\n",
       "        text-align: right;\n",
       "    }\n",
       "</style>\n",
       "<table border=\"1\" class=\"dataframe\">\n",
       "  <thead>\n",
       "    <tr style=\"text-align: right;\">\n",
       "      <th></th>\n",
       "      <th>Country</th>\n",
       "      <th>Export value $USM</th>\n",
       "    </tr>\n",
       "  </thead>\n",
       "  <tbody>\n",
       "    <tr>\n",
       "      <th>0</th>\n",
       "      <td>China</td>\n",
       "      <td>882</td>\n",
       "    </tr>\n",
       "    <tr>\n",
       "      <th>1</th>\n",
       "      <td>South Korea</td>\n",
       "      <td>98.3</td>\n",
       "    </tr>\n",
       "    <tr>\n",
       "      <th>2</th>\n",
       "      <td>India</td>\n",
       "      <td>85.8</td>\n",
       "    </tr>\n",
       "    <tr>\n",
       "      <th>3</th>\n",
       "      <td>Malaysia</td>\n",
       "      <td>46.5</td>\n",
       "    </tr>\n",
       "    <tr>\n",
       "      <th>4</th>\n",
       "      <td>Japan</td>\n",
       "      <td>35.7</td>\n",
       "    </tr>\n",
       "  </tbody>\n",
       "</table>\n",
       "</div>"
      ],
      "text/plain": [
       "         Country Export value $USM\n",
       "0         China                882\n",
       "1   South Korea               98.3\n",
       "2         India               85.8\n",
       "3      Malaysia               46.5\n",
       "4         Japan               35.7"
      ]
     },
     "execution_count": 24,
     "metadata": {},
     "output_type": "execute_result"
    }
   ],
   "source": [
    "manga_url = 'https://oec.world/en/profile/bilateral-product/manganese-ore/reporter/aus'\n",
    "browser.visit(manga_url)\n",
    "html = browser.html\n",
    "soup = BeautifulSoup(html, \"html.parser\")\n",
    "country_list = []\n",
    "text_area = soup.find(\"p\", class_=\"cp-section-paragraph cp-multi-column-section-paragraph\")\n",
    "paragragh =  text_area.text\n",
    "links = text_area.find_all(\"a\")\n",
    "for link in links:\n",
    "    country_list.append(link.text)\n",
    "browser.quit()\n",
    "country_list1 = country_list[-5:]\n",
    "print(country_list1)\n",
    "data = []\n",
    "for ix, char in enumerate(paragragh):\n",
    "    if char == '(':\n",
    "        data.append(paragragh[ix+2 : ix+6])\n",
    "manga_df = pd.DataFrame({\"Country\":country_list1, \"Export value $USM\": data})\n",
    "manga_df[\"Export value $USM\"] = manga_df[\"Export value $USM\"].replace({\"882M\": \"882\"})\n",
    "manga_df"
   ]
  },
  {
   "cell_type": "code",
   "execution_count": 25,
   "id": "f4134b87",
   "metadata": {},
   "outputs": [],
   "source": [
    "manga_df.to_csv(\"Output/manganese.csv\", index=False, header = True)"
   ]
  },
  {
   "cell_type": "code",
   "execution_count": null,
   "id": "7c98d814",
   "metadata": {},
   "outputs": [],
   "source": []
  },
  {
   "cell_type": "code",
   "execution_count": 26,
   "id": "5d3e7ad9",
   "metadata": {},
   "outputs": [],
   "source": [
    "executable_path = {'executable_path': ChromeDriverManager().install()}\n",
    "browser = Browser('chrome', **executable_path, headless=False)"
   ]
  },
  {
   "cell_type": "code",
   "execution_count": 27,
   "id": "f0919f75",
   "metadata": {},
   "outputs": [
    {
     "name": "stdout",
     "output_type": "stream",
     "text": [
      "[' China ', ' Malaysia ', ' Thailand ', ' Singapore ']\n"
     ]
    },
    {
     "data": {
      "text/html": [
       "<div>\n",
       "<style scoped>\n",
       "    .dataframe tbody tr th:only-of-type {\n",
       "        vertical-align: middle;\n",
       "    }\n",
       "\n",
       "    .dataframe tbody tr th {\n",
       "        vertical-align: top;\n",
       "    }\n",
       "\n",
       "    .dataframe thead th {\n",
       "        text-align: right;\n",
       "    }\n",
       "</style>\n",
       "<table border=\"1\" class=\"dataframe\">\n",
       "  <thead>\n",
       "    <tr style=\"text-align: right;\">\n",
       "      <th></th>\n",
       "      <th>Country</th>\n",
       "      <th>Export value $USM</th>\n",
       "    </tr>\n",
       "  </thead>\n",
       "  <tbody>\n",
       "    <tr>\n",
       "      <th>0</th>\n",
       "      <td>China</td>\n",
       "      <td>57.4</td>\n",
       "    </tr>\n",
       "    <tr>\n",
       "      <th>1</th>\n",
       "      <td>Malaysia</td>\n",
       "      <td>41.7</td>\n",
       "    </tr>\n",
       "    <tr>\n",
       "      <th>2</th>\n",
       "      <td>Thailand</td>\n",
       "      <td>19.6</td>\n",
       "    </tr>\n",
       "    <tr>\n",
       "      <th>3</th>\n",
       "      <td>Singapore</td>\n",
       "      <td>0.903</td>\n",
       "    </tr>\n",
       "  </tbody>\n",
       "</table>\n",
       "</div>"
      ],
      "text/plain": [
       "       Country Export value $USM\n",
       "0       China               57.4\n",
       "1    Malaysia               41.7\n",
       "2    Thailand               19.6\n",
       "3   Singapore              0.903"
      ]
     },
     "execution_count": 27,
     "metadata": {},
     "output_type": "execute_result"
    }
   ],
   "source": [
    "tin_url = 'https://oec.world/en/profile/bilateral-product/tin-ores/reporter/aus'\n",
    "browser.visit(tin_url)\n",
    "html = browser.html\n",
    "soup = BeautifulSoup(html, \"html.parser\")\n",
    "country_list = []\n",
    "text_area = soup.find(\"p\", class_=\"cp-section-paragraph cp-multi-column-section-paragraph\")\n",
    "paragragh =  text_area.text\n",
    "links = text_area.find_all(\"a\")\n",
    "for link in links:\n",
    "    country_list.append(link.text)\n",
    "browser.quit()\n",
    "country_list1 = country_list[-4:]\n",
    "print(country_list1)\n",
    "data = []\n",
    "for ix, char in enumerate(paragragh):\n",
    "    if char == '(':\n",
    "        data.append(paragragh[ix+2 : ix+6])\n",
    "tin_df = pd.DataFrame({\"Country\":country_list1, \"Export value $USM\": data})\n",
    "tin_df[\"Export value $USM\"] = tin_df[\"Export value $USM\"].replace({\"903k\": \"0.903\"})\n",
    "tin_df"
   ]
  },
  {
   "cell_type": "code",
   "execution_count": 28,
   "id": "02258a92",
   "metadata": {},
   "outputs": [],
   "source": [
    "tin_df.to_csv(\"Output/tin.csv\", index=False, header = True)"
   ]
  },
  {
   "cell_type": "code",
   "execution_count": null,
   "id": "e1ecb6ae",
   "metadata": {},
   "outputs": [],
   "source": []
  },
  {
   "cell_type": "code",
   "execution_count": null,
   "id": "f0177a90",
   "metadata": {},
   "outputs": [],
   "source": []
  },
  {
   "cell_type": "code",
   "execution_count": 29,
   "id": "43f611de",
   "metadata": {},
   "outputs": [
    {
     "name": "stdout",
     "output_type": "stream",
     "text": [
      "2        Singapore\n",
      "3        Indonesia\n",
      "4      New Zealand\n",
      "5         Malaysia\n",
      "6    United States\n",
      "Name: 5, dtype: object\n"
     ]
    },
    {
     "data": {
      "text/html": [
       "<div>\n",
       "<style scoped>\n",
       "    .dataframe tbody tr th:only-of-type {\n",
       "        vertical-align: middle;\n",
       "    }\n",
       "\n",
       "    .dataframe tbody tr th {\n",
       "        vertical-align: top;\n",
       "    }\n",
       "\n",
       "    .dataframe thead th {\n",
       "        text-align: right;\n",
       "    }\n",
       "</style>\n",
       "<table border=\"1\" class=\"dataframe\">\n",
       "  <thead>\n",
       "    <tr style=\"text-align: right;\">\n",
       "      <th></th>\n",
       "      <th>Country</th>\n",
       "      <th>Export value $USK</th>\n",
       "    </tr>\n",
       "  </thead>\n",
       "  <tbody>\n",
       "    <tr>\n",
       "      <th>2</th>\n",
       "      <td>Singapore</td>\n",
       "      <td>22.75</td>\n",
       "    </tr>\n",
       "    <tr>\n",
       "      <th>3</th>\n",
       "      <td>Indonesia</td>\n",
       "      <td>15.39</td>\n",
       "    </tr>\n",
       "    <tr>\n",
       "      <th>4</th>\n",
       "      <td>New Zealand</td>\n",
       "      <td>10.03</td>\n",
       "    </tr>\n",
       "    <tr>\n",
       "      <th>5</th>\n",
       "      <td>Malaysia</td>\n",
       "      <td>3.23</td>\n",
       "    </tr>\n",
       "    <tr>\n",
       "      <th>6</th>\n",
       "      <td>United States</td>\n",
       "      <td>0.27</td>\n",
       "    </tr>\n",
       "  </tbody>\n",
       "</table>\n",
       "</div>"
      ],
      "text/plain": [
       "         Country Export value $USK\n",
       "2      Singapore             22.75\n",
       "3      Indonesia             15.39\n",
       "4    New Zealand             10.03\n",
       "5       Malaysia              3.23\n",
       "6  United States              0.27"
      ]
     },
     "execution_count": 29,
     "metadata": {},
     "output_type": "execute_result"
    }
   ],
   "source": [
    "url = \"https://wits.worldbank.org/trade/comtrade/en/country/AUS/year/2019/tradeflow/Exports/partner/ALL/product/283691\"\n",
    "header = {\n",
    "  \"User-Agent\": \"Mozilla/5.0 (X11; Linux x86_64) AppleWebKit/537.36 (KHTML, like Gecko) Chrome/50.0.2661.75 Safari/537.36\",\n",
    "  \"X-Requested-With\": \"XMLHttpRequest\"\n",
    "}\n",
    "\n",
    "r = requests.get(url, headers=header)\n",
    "\n",
    "dfs = pd.read_html(r.text)\n",
    "metal_df = dfs[0]\n",
    "country_list = metal_df[5]\n",
    "country_list1 = country_list[2:7]\n",
    "print(country_list1)\n",
    "data = metal_df[6]\n",
    "data = data[2:7]\n",
    "s = list(data)\n",
    "lithium_df = pd.DataFrame({\"Country\":country_list1, \"Export value $USK\": s})\n",
    "lithium_df"
   ]
  },
  {
   "cell_type": "code",
   "execution_count": 30,
   "id": "396b698f",
   "metadata": {},
   "outputs": [],
   "source": [
    "lithium_df.to_csv(\"Output/lithium.csv\", index=False, header = True)\n"
   ]
  },
  {
   "cell_type": "code",
   "execution_count": 31,
   "id": "cca5d1a1",
   "metadata": {},
   "outputs": [],
   "source": [
    "url = \"https://tradingeconomics.com/forecast/commodity\""
   ]
  },
  {
   "cell_type": "code",
   "execution_count": 32,
   "id": "2f841c44",
   "metadata": {},
   "outputs": [],
   "source": [
    "header = {\n",
    "  \"User-Agent\": \"Mozilla/5.0 (X11; Linux x86_64) AppleWebKit/537.36 (KHTML, like Gecko) Chrome/50.0.2661.75 Safari/537.36\",\n",
    "  \"X-Requested-With\": \"XMLHttpRequest\"\n",
    "}\n",
    "\n",
    "r = requests.get(url, headers=header)\n",
    "\n",
    "dfs = pd.read_html(r.text)"
   ]
  },
  {
   "cell_type": "code",
   "execution_count": 33,
   "id": "7dabc399",
   "metadata": {},
   "outputs": [],
   "source": [
    "metal_df = dfs[1]\n",
    "metal_df = metal_df.loc[(metal_df[\"Metals\"] == \"Gold\") |(metal_df[\"Metals\"] == \"Silver\") | (metal_df[\"Metals\"] == \"Copper\")| (metal_df[\"Metals\"] == \"Iron Ore\") | (metal_df[\"Metals\"] == \"Lithium\"), :]\n",
    "metal_df = metal_df.rename(columns = {\"Metals\": \"Commodity\"})"
   ]
  },
  {
   "cell_type": "code",
   "execution_count": 34,
   "id": "5074a618",
   "metadata": {},
   "outputs": [],
   "source": [
    "industry_df = dfs[4]\n",
    "industry_df = industry_df.loc[(industry_df[\"Industrial\"] == \"Manganese\") |(industry_df[\"Industrial\"] == \"Lead\") | (industry_df[\"Industrial\"] == \"Zinc\")| (industry_df[\"Industrial\"] == \"Nickel\"), :]\n",
    "industry_df = industry_df.rename(columns = {\"Industrial\": \"Commodity\"})"
   ]
  },
  {
   "cell_type": "code",
   "execution_count": 35,
   "id": "e1793565",
   "metadata": {},
   "outputs": [],
   "source": [
    "concatenated = pd.concat([metal_df, industry_df])\n",
    "commodity_df = concatenated[[\"Commodity\", \"Price\", \"Q4/22\", \"Q1/23\", \"Q2/23\", \"Q3/23\"]]\n",
    "commodity_df.round({\"Q4/22\":2, \"Q1/23\":2, \"Q2/23\":2, \"Q3/23\":2})\n",
    "commodity_df.set_index(\"Commodity\")\n",
    "commodity_df.to_csv(\"Output/commodity.csv\", index=True, header = True)"
   ]
  },
  {
   "cell_type": "code",
   "execution_count": null,
   "id": "9272b60e",
   "metadata": {},
   "outputs": [],
   "source": []
  },
  {
   "cell_type": "code",
   "execution_count": null,
   "id": "d407ccd8",
   "metadata": {},
   "outputs": [],
   "source": []
  },
  {
   "cell_type": "code",
   "execution_count": null,
   "id": "7b0e6c40",
   "metadata": {},
   "outputs": [],
   "source": []
  },
  {
   "cell_type": "code",
   "execution_count": null,
   "id": "15324439",
   "metadata": {},
   "outputs": [],
   "source": []
  },
  {
   "cell_type": "code",
   "execution_count": 37,
   "id": "b7119f7c",
   "metadata": {},
   "outputs": [
    {
     "name": "stdout",
     "output_type": "stream",
     "text": [
      "lithiuum dataset has been loaded in PostgreSQL database\n",
      "gold dataset has been loaded in PostgreSQL database\n",
      "silver dataset has been loaded in PostgreSQL database\n",
      "iron ore dataset has been loaded in PostgreSQL database\n",
      "copper dataset has been loaded in PostgreSQL database\n",
      "lead dataset has been loaded in PostgreSQL database\n",
      "zinc dataset has been loaded in PostgreSQL database\n",
      "nickel dataset has been loaded in PostgreSQL database\n",
      "manganese dataset has been loaded in PostgreSQL database\n",
      "tin dataset has been loaded in PostgreSQL database\n",
      "commodity dataset has been loaded in PostgreSQL database\n",
      "PostgreSQL connection is closed\n"
     ]
    }
   ],
   "source": [
    "import psycopg2\n",
    "from psycopg2 import Error\n",
    "from psycopg2.extensions import ISOLATION_LEVEL_AUTOCOMMIT\n",
    "from sqlalchemy import create_engine\n",
    "from sqlalchemy import inspect\n",
    "from config import password\n",
    "\n",
    "\n",
    "protocol = 'postgresql'\n",
    "username = 'postgres'\n",
    "host = 'localhost'\n",
    "port = 5432\n",
    "database_name = 'project3_db'\n",
    "\n",
    "\n",
    "# connecting to postgresql to create a db\n",
    "connection_string = f'{protocol}://{username}:{password}@{host}:{port}/'\n",
    "con = psycopg2.connect(connection_string)\n",
    "con.set_isolation_level(ISOLATION_LEVEL_AUTOCOMMIT)\n",
    "cur = con.cursor()\n",
    "cur.close()\n",
    "\n",
    "# connecting to db to input data\n",
    "rds_connection_string = f'{connection_string}{database_name}'\n",
    "engine = create_engine(rds_connection_string)\n",
    "\n",
    "\n",
    "\n",
    "try:\n",
    "    engine.execute(\"DROP TABLE IF EXISTS lithium\")\n",
    "    engine.execute(\"DROP TABLE IF EXISTS gold\")\n",
    "    engine.execute(\"DROP TABLE IF EXISTS silver\")\n",
    "    engine.execute(\"DROP TABLE IF EXISTS iron_ore\")\n",
    "    engine.execute(\"DROP TABLE IF EXISTS copper\")\n",
    "    engine.execute(\"DROP TABLE IF EXISTS lead\")\n",
    "    engine.execute(\"DROP TABLE IF EXISTS zinc\")\n",
    "    engine.execute(\"DROP TABLE IF EXISTS nickel\")\n",
    "    engine.execute(\"DROP TABLE IF EXISTS manganese\")\n",
    "    engine.execute(\"DROP TABLE IF EXISTS tin\")\n",
    "    engine.execute(\"DROP TABLE IF EXISTS commodities\")\n",
    "    \n",
    "    sql_lithium = '''\n",
    "    CREATE TABLE lithium(Country VARCHAR (255),\"Export value $USK\" float );\n",
    "    '''\n",
    "    sql_gold = '''\n",
    "    CREATE TABLE gold(Country VARCHAR (255),\"Export value $USB\" float );\n",
    "    '''\n",
    "    sql_silver = '''\n",
    "    CREATE TABLE silver(Country VARCHAR (255),\"Export value $USM\" float );\n",
    "    '''\n",
    "    sql_iron_ore = '''\n",
    "    CREATE TABLE iron_ore(Country VARCHAR (255),\"Export value $USB\" float );\n",
    "    '''\n",
    "    sql_copper = '''\n",
    "    CREATE TABLE copper(Country VARCHAR (255),\"Export value $USB\" float );\n",
    "    '''\n",
    "    sql_lead = '''\n",
    "    CREATE TABLE lead(Country VARCHAR (255),\"Export value $USM\" float );\n",
    "    '''\n",
    "    sql_zinc = '''\n",
    "    CREATE TABLE zinc(Country VARCHAR (255),\"Export value $USM\" float );\n",
    "    '''\n",
    "    sql_nickel = '''\n",
    "    CREATE TABLE nickel(Country VARCHAR (255),\"Export value $USM\" float );\n",
    "    '''\n",
    "    sql_manganese = '''\n",
    "    CREATE TABLE manganese(Country VARCHAR (255),\"Export value $USM\" float );\n",
    "    '''\n",
    "    sql_tin = '''\n",
    "    CREATE TABLE tin(Country VARCHAR (255),\"Export value $USM\" float );\n",
    "    '''\n",
    "    sql_commodities = '''\n",
    "    CREATE TABLE commodities(Commodity VARCHAR (255),\"Price\" float,\\\n",
    "    \"Q4/22\" float,\\\n",
    "    \"Q1/23\" float,\\\n",
    "    \"Q2/23\" float, \\\n",
    "    \"Q3/23\" float);\n",
    "    '''\n",
    "    \n",
    "    engine.execute(sql_lithium)\n",
    "    engine.execute(sql_gold)\n",
    "    engine.execute(sql_silver)\n",
    "    engine.execute(sql_iron_ore)\n",
    "    engine.execute(sql_copper)\n",
    "    engine.execute(sql_lead)\n",
    "    engine.execute(sql_zinc)\n",
    "    engine.execute(sql_nickel)\n",
    "    engine.execute(sql_manganese)\n",
    "    engine.execute(sql_tin)\n",
    "    engine.execute(sql_commodities)\n",
    "\n",
    "    \n",
    "    lith_df = pd.read_csv('Output/lithium.csv')\n",
    "    lith_df.to_sql('lithium', engine, if_exists= 'replace', index= False)\n",
    "    print(f'lithium dataset has been loaded in PostgreSQL database' )\n",
    "\n",
    "    gld_df = pd.read_csv('Output/gold.csv')\n",
    "    gld_df.to_sql('gold', engine, if_exists= 'replace', index= False)\n",
    "    print(f'gold dataset has been loaded in PostgreSQL database' )\n",
    "\n",
    "    slv_df = pd.read_csv('Output/silver.csv')\n",
    "    slv_df.to_sql('silver', engine, if_exists= 'replace', index= False)\n",
    "    print(f'silver dataset has been loaded in PostgreSQL database' )\n",
    "    \n",
    "    iron_ore_df = pd.read_csv('Output/iron.csv')\n",
    "    iron_ore_df.to_sql('iron_ore', engine, if_exists= 'replace', index= False)\n",
    "    print(f'iron ore dataset has been loaded in PostgreSQL database' )\n",
    "    \n",
    "    cop_df = pd.read_csv('Output/copper.csv')\n",
    "    cop_df.to_sql('copper', engine, if_exists= 'replace', index= False)\n",
    "    print(f'copper dataset has been loaded in PostgreSQL database' )\n",
    "\n",
    "    l_df = pd.read_csv('Output/lead.csv')\n",
    "    l_df.to_sql('lead', engine, if_exists= 'replace', index= False)\n",
    "    print(f'lead dataset has been loaded in PostgreSQL database' )\n",
    "   \n",
    "    zi_df = pd.read_csv('Output/zinc.csv')\n",
    "    zi_df.to_sql('zinc', engine, if_exists= 'replace', index= False)\n",
    "    print(f'zinc dataset has been loaded in PostgreSQL database' )\n",
    "    \n",
    "    nkl_df = pd.read_csv('Output/nickel.csv')\n",
    "    nkl_df.to_sql('nickel', engine, if_exists= 'replace', index= False)\n",
    "    print(f'nickel dataset has been loaded in PostgreSQL database' )\n",
    "    \n",
    "    manganese_df = pd.read_csv('Output/manganese.csv')\n",
    "    manganese_df.to_sql('manganese', engine, if_exists= 'replace', index= False)\n",
    "    print(f'manganese dataset has been loaded in PostgreSQL database' )\n",
    "    \n",
    "    t_df = pd.read_csv('Output/tin.csv')\n",
    "    t_df.to_sql('tin', engine, if_exists= 'replace', index= False)\n",
    "    print(f'tin dataset has been loaded in PostgreSQL database' )\n",
    "    \n",
    "    commodity_df = pd.read_csv('Output/commodity.csv')\n",
    "    commodity_df.to_sql('commodities', engine, if_exists= 'replace', index= False)\n",
    "    print(f'commodity dataset has been loaded in PostgreSQL database' )\n",
    "    \n",
    "except (Exception, Error) as error:\n",
    "    print(\"Error while connecting to PostgreSQL\", error)\n",
    "\n",
    "finally:\n",
    "  engine.dispose()\n",
    "  print(\"PostgreSQL connection is closed\")"
   ]
  },
  {
   "cell_type": "code",
   "execution_count": null,
   "id": "6360e281",
   "metadata": {},
   "outputs": [],
   "source": []
  },
  {
   "cell_type": "code",
   "execution_count": null,
   "id": "81e968a9",
   "metadata": {},
   "outputs": [],
   "source": []
  },
  {
   "cell_type": "code",
   "execution_count": null,
   "id": "2058ecdd",
   "metadata": {},
   "outputs": [],
   "source": []
  },
  {
   "cell_type": "code",
   "execution_count": null,
   "id": "0add4fff",
   "metadata": {},
   "outputs": [],
   "source": []
  },
  {
   "cell_type": "code",
   "execution_count": null,
   "id": "852355e5",
   "metadata": {},
   "outputs": [],
   "source": []
  },
  {
   "cell_type": "code",
   "execution_count": null,
   "id": "f2191080",
   "metadata": {},
   "outputs": [],
   "source": []
  },
  {
   "cell_type": "code",
   "execution_count": null,
   "id": "5ef0bddc",
   "metadata": {},
   "outputs": [],
   "source": []
  },
  {
   "cell_type": "code",
   "execution_count": null,
   "id": "7765acb7",
   "metadata": {},
   "outputs": [],
   "source": []
  },
  {
   "cell_type": "code",
   "execution_count": null,
   "id": "61fc6bc0",
   "metadata": {},
   "outputs": [],
   "source": []
  },
  {
   "cell_type": "code",
   "execution_count": null,
   "id": "9d3a2883",
   "metadata": {},
   "outputs": [],
   "source": []
  },
  {
   "cell_type": "code",
   "execution_count": null,
   "id": "d6f02ee6",
   "metadata": {},
   "outputs": [],
   "source": []
  }
 ],
 "metadata": {
  "kernelspec": {
   "display_name": "Python [conda env:PythonData] *",
   "language": "python",
   "name": "conda-env-PythonData-py"
  },
  "language_info": {
   "codemirror_mode": {
    "name": "ipython",
    "version": 3
   },
   "file_extension": ".py",
   "mimetype": "text/x-python",
   "name": "python",
   "nbconvert_exporter": "python",
   "pygments_lexer": "ipython3",
   "version": "3.7.7"
  }
 },
 "nbformat": 4,
 "nbformat_minor": 5
}
