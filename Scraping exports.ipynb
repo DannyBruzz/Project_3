{
 "cells": [
  {
   "cell_type": "code",
   "execution_count": 35,
   "id": "6c6ce365",
   "metadata": {},
   "outputs": [],
   "source": [
    "import requests\n",
    "import os\n",
    "from splinter import Browser\n",
    "import pandas as pd\n",
    "from webdriver_manager.chrome import ChromeDriverManager\n",
    "from bs4 import BeautifulSoup"
   ]
  },
  {
   "cell_type": "code",
   "execution_count": 36,
   "id": "be7bcba8",
   "metadata": {},
   "outputs": [],
   "source": [
    "executable_path = {'executable_path': ChromeDriverManager().install()}\n",
    "browser = Browser('chrome', **executable_path, headless=False)"
   ]
  },
  {
   "cell_type": "code",
   "execution_count": 6,
   "id": "271b5328",
   "metadata": {},
   "outputs": [
    {
     "name": "stdout",
     "output_type": "stream",
     "text": [
      "[' United Kingdom ', ' United States ', ' Switzerland ', ' Hong Kong ', ' China ']\n",
      "['8.25', '2.75', '1.63', '1.29', '1.13']\n"
     ]
    }
   ],
   "source": [
    "url = 'https://oec.world/en/profile/bilateral-product/gold/reporter/aus?latestTrendsViewSelector=latestTrendsViewOption0'\n",
    "browser.visit(url)\n",
    "html = browser.html\n",
    "soup = BeautifulSoup(html, \"html.parser\")\n",
    "country_list = []\n",
    "text_area = soup.find(\"p\", class_=\"cp-section-paragraph cp-multi-column-section-paragraph\")\n",
    "paragragh =  text_area.text\n",
    "links = text_area.find_all(\"a\")\n",
    "for link in links:\n",
    "    country_list.append(link.text)\n",
    "browser.quit()\n",
    "country_list1 = country_list[-5:]\n",
    "print(country_list1)\n",
    "data = []\n",
    "for ix, char in enumerate(paragragh):\n",
    "    if char == '(':\n",
    "        data.append(paragragh[ix+2 : ix+6])\n",
    "print(data)"
   ]
  },
  {
   "cell_type": "code",
   "execution_count": null,
   "id": "cc187fab",
   "metadata": {},
   "outputs": [],
   "source": []
  },
  {
   "cell_type": "code",
   "execution_count": 9,
   "id": "36514a47",
   "metadata": {},
   "outputs": [
    {
     "name": "stdout",
     "output_type": "stream",
     "text": [
      "[' India ', ' Hong Kong ', ' New Zealand ', ' Switzerland ', ' Canada ']\n",
      "['64.6', '28.2', '28.2', '11.2', '8.44']\n"
     ]
    }
   ],
   "source": [
    "silver_url = 'https://oec.world/en/profile/bilateral-product/silver/reporter/aus'\n",
    "browser.visit(silver_url)\n",
    "html = browser.html\n",
    "soup = BeautifulSoup(html, \"html.parser\")\n",
    "country_list = []\n",
    "text_area = soup.find(\"p\", class_=\"cp-section-paragraph cp-multi-column-section-paragraph\")\n",
    "paragragh =  text_area.text\n",
    "links = text_area.find_all(\"a\")\n",
    "for link in links:\n",
    "    country_list.append(link.text)\n",
    "browser.quit()\n",
    "country_list1 = country_list[-5:]\n",
    "print(country_list1)\n",
    "data = []\n",
    "for ix, char in enumerate(paragragh):\n",
    "    if char == '(':\n",
    "        data.append(paragragh[ix+2 : ix+6])\n",
    "print(data)"
   ]
  },
  {
   "cell_type": "code",
   "execution_count": null,
   "id": "5c611d5b",
   "metadata": {},
   "outputs": [],
   "source": []
  },
  {
   "cell_type": "code",
   "execution_count": 13,
   "id": "7577603c",
   "metadata": {},
   "outputs": [
    {
     "name": "stdout",
     "output_type": "stream",
     "text": [
      "[' China ', ' Japan ', ' South Korea ', ' Singapore ', ' Hong Kong ']\n",
      "['63.9', '4.43', '4.35', '2.13', '1.94']\n"
     ]
    }
   ],
   "source": [
    "iron_url = 'https://oec.world/en/profile/bilateral-product/iron-ore/reporter/aus'\n",
    "browser.visit(iron_url)\n",
    "html = browser.html\n",
    "soup = BeautifulSoup(html, \"html.parser\")\n",
    "country_list = []\n",
    "text_area = soup.find(\"p\", class_=\"cp-section-paragraph cp-multi-column-section-paragraph\")\n",
    "paragragh =  text_area.text\n",
    "links = text_area.find_all(\"a\")\n",
    "for link in links:\n",
    "    country_list.append(link.text)\n",
    "browser.quit()\n",
    "country_list1 = country_list[-5:]\n",
    "print(country_list1)\n",
    "data = []\n",
    "for ix, char in enumerate(paragragh):\n",
    "    if char == '(':\n",
    "        data.append(paragragh[ix+2 : ix+6])\n",
    "print(data)"
   ]
  },
  {
   "cell_type": "code",
   "execution_count": null,
   "id": "d2ad9c3f",
   "metadata": {
    "scrolled": true
   },
   "outputs": [],
   "source": [
    "\n"
   ]
  },
  {
   "cell_type": "code",
   "execution_count": 16,
   "id": "a52c6c26",
   "metadata": {},
   "outputs": [
    {
     "name": "stdout",
     "output_type": "stream",
     "text": [
      "[' China ', ' Japan ', ' South Korea ', ' India ', ' Chinese Taipei ']\n",
      "['1.38', '1.13', '656M', '212M', '150M']\n"
     ]
    }
   ],
   "source": [
    "copper_url = 'https://oec.world/en/profile/bilateral-product/copper-ore/reporter/aus'\n",
    "browser.visit(copper_url)\n",
    "html = browser.html\n",
    "soup = BeautifulSoup(html, \"html.parser\")\n",
    "country_list = []\n",
    "text_area = soup.find(\"p\", class_=\"cp-section-paragraph cp-multi-column-section-paragraph\")\n",
    "paragragh =  text_area.text\n",
    "links = text_area.find_all(\"a\")\n",
    "for link in links:\n",
    "    country_list.append(link.text)\n",
    "browser.quit()\n",
    "country_list1 = country_list[-5:]\n",
    "print(country_list1)\n",
    "data = []\n",
    "for ix, char in enumerate(paragragh):\n",
    "    if char == '(':\n",
    "        data.append(paragragh[ix+2 : ix+6])\n",
    "print(data)"
   ]
  },
  {
   "cell_type": "code",
   "execution_count": null,
   "id": "0c0d353f",
   "metadata": {},
   "outputs": [],
   "source": []
  },
  {
   "cell_type": "code",
   "execution_count": 23,
   "id": "41d4f4e3",
   "metadata": {},
   "outputs": [
    {
     "name": "stdout",
     "output_type": "stream",
     "text": [
      "[' South Korea ', ' China ', ' Japan ', ' Chinese Taipei ', ' Chile ']\n",
      "['290M', '169M', '68.9', '10.5', '249)']\n"
     ]
    }
   ],
   "source": [
    "lead_url = 'https://oec.world/en/profile/bilateral-product/lead-ore/reporter/aus'\n",
    "browser.visit(lead_url)\n",
    "html = browser.html\n",
    "soup = BeautifulSoup(html, \"html.parser\")\n",
    "country_list = []\n",
    "text_area = soup.find(\"p\", class_=\"cp-section-paragraph cp-multi-column-section-paragraph\")\n",
    "paragragh =  text_area.text\n",
    "links = text_area.find_all(\"a\")\n",
    "for link in links:\n",
    "    country_list.append(link.text)\n",
    "browser.quit()\n",
    "country_list1 = country_list[-5:]\n",
    "print(country_list1)\n",
    "data = []\n",
    "for ix, char in enumerate(paragragh):\n",
    "    if char == '(':\n",
    "        data.append(paragragh[ix+2 : ix+6])\n",
    "print(data)"
   ]
  },
  {
   "cell_type": "code",
   "execution_count": null,
   "id": "74c0ba81",
   "metadata": {},
   "outputs": [],
   "source": []
  },
  {
   "cell_type": "code",
   "execution_count": 27,
   "id": "30c9721c",
   "metadata": {},
   "outputs": [
    {
     "name": "stdout",
     "output_type": "stream",
     "text": [
      "[' China ', ' South Korea ', ' Japan ', ' Spain ', ' Germany ']\n",
      "['817M', '293M', '85.1', '71M)', '54.7']\n"
     ]
    }
   ],
   "source": [
    "zinc_url = 'https://oec.world/en/profile/bilateral-product/zinc-ore/reporter/aus'\n",
    "browser.visit(zinc_url)\n",
    "html = browser.html\n",
    "soup = BeautifulSoup(html, \"html.parser\")\n",
    "country_list = []\n",
    "text_area = soup.find(\"p\", class_=\"cp-section-paragraph cp-multi-column-section-paragraph\")\n",
    "paragragh =  text_area.text\n",
    "links = text_area.find_all(\"a\")\n",
    "for link in links:\n",
    "    country_list.append(link.text)\n",
    "browser.quit()\n",
    "country_list1 = country_list[-5:]\n",
    "print(country_list1)\n",
    "data = []\n",
    "for ix, char in enumerate(paragragh):\n",
    "    if char == '(':\n",
    "        data.append(paragragh[ix+2 : ix+6])\n",
    "print(data)"
   ]
  },
  {
   "cell_type": "code",
   "execution_count": null,
   "id": "3bf67494",
   "metadata": {},
   "outputs": [],
   "source": []
  },
  {
   "cell_type": "code",
   "execution_count": 31,
   "id": "bb8a80e7",
   "metadata": {},
   "outputs": [
    {
     "name": "stdout",
     "output_type": "stream",
     "text": [
      "[' China ', ' Norway ', ' Indonesia ', ' Serbia ', ' Malaysia ']\n",
      "['308M', '68.3', '6.36', '1.63', '1.18']\n"
     ]
    }
   ],
   "source": [
    "nickel_url = 'https://oec.world/en/profile/bilateral-product/nickel-ore/reporter/aus'\n",
    "browser.visit(nickel_url)\n",
    "html = browser.html\n",
    "soup = BeautifulSoup(html, \"html.parser\")\n",
    "country_list = []\n",
    "text_area = soup.find(\"p\", class_=\"cp-section-paragraph cp-multi-column-section-paragraph\")\n",
    "paragragh =  text_area.text\n",
    "links = text_area.find_all(\"a\")\n",
    "for link in links:\n",
    "    country_list.append(link.text)\n",
    "browser.quit()\n",
    "country_list1 = country_list[-5:]\n",
    "print(country_list1)\n",
    "data = []\n",
    "for ix, char in enumerate(paragragh):\n",
    "    if char == '(':\n",
    "        data.append(paragragh[ix+2 : ix+6])\n",
    "print(data)"
   ]
  },
  {
   "cell_type": "code",
   "execution_count": null,
   "id": "387d53aa",
   "metadata": {},
   "outputs": [],
   "source": []
  },
  {
   "cell_type": "code",
   "execution_count": 34,
   "id": "a6ae9224",
   "metadata": {},
   "outputs": [
    {
     "name": "stdout",
     "output_type": "stream",
     "text": [
      "[' China ', ' South Korea ', ' India ', ' Malaysia ', ' Japan ']\n",
      "['882M', '98.3', '85.8', '46.5', '35.7']\n"
     ]
    }
   ],
   "source": [
    "manga_url = 'https://oec.world/en/profile/bilateral-product/manganese-ore/reporter/aus'\n",
    "browser.visit(manga_url)\n",
    "html = browser.html\n",
    "soup = BeautifulSoup(html, \"html.parser\")\n",
    "country_list = []\n",
    "text_area = soup.find(\"p\", class_=\"cp-section-paragraph cp-multi-column-section-paragraph\")\n",
    "paragragh =  text_area.text\n",
    "links = text_area.find_all(\"a\")\n",
    "for link in links:\n",
    "    country_list.append(link.text)\n",
    "browser.quit()\n",
    "country_list1 = country_list[-5:]\n",
    "print(country_list1)\n",
    "data = []\n",
    "for ix, char in enumerate(paragragh):\n",
    "    if char == '(':\n",
    "        data.append(paragragh[ix+2 : ix+6])\n",
    "print(data)"
   ]
  },
  {
   "cell_type": "code",
   "execution_count": null,
   "id": "1f246d58",
   "metadata": {},
   "outputs": [],
   "source": []
  },
  {
   "cell_type": "code",
   "execution_count": 37,
   "id": "9dcb2bcd",
   "metadata": {},
   "outputs": [
    {
     "name": "stdout",
     "output_type": "stream",
     "text": [
      "[' Australia', ' China ', ' Malaysia ', ' Thailand ', ' Singapore ']\n",
      "['57.4', '41.7', '19.6', '903k']\n"
     ]
    }
   ],
   "source": [
    "tin_url = 'https://oec.world/en/profile/bilateral-product/tin-ores/reporter/aus'\n",
    "browser.visit(tin_url)\n",
    "html = browser.html\n",
    "soup = BeautifulSoup(html, \"html.parser\")\n",
    "country_list = []\n",
    "text_area = soup.find(\"p\", class_=\"cp-section-paragraph cp-multi-column-section-paragraph\")\n",
    "paragragh =  text_area.text\n",
    "links = text_area.find_all(\"a\")\n",
    "for link in links:\n",
    "    country_list.append(link.text)\n",
    "browser.quit()\n",
    "country_list1 = country_list[-5:]\n",
    "print(country_list1)\n",
    "data = []\n",
    "for ix, char in enumerate(paragragh):\n",
    "    if char == '(':\n",
    "        data.append(paragragh[ix+2 : ix+6])\n",
    "print(data)"
   ]
  },
  {
   "cell_type": "code",
   "execution_count": null,
   "id": "a86fd577",
   "metadata": {},
   "outputs": [],
   "source": []
  },
  {
   "cell_type": "code",
   "execution_count": null,
   "id": "667835e3",
   "metadata": {},
   "outputs": [],
   "source": []
  },
  {
   "cell_type": "code",
   "execution_count": null,
   "id": "439eda18",
   "metadata": {},
   "outputs": [],
   "source": []
  }
 ],
 "metadata": {
  "kernelspec": {
   "display_name": "Python [conda env:PythonData] *",
   "language": "python",
   "name": "conda-env-PythonData-py"
  },
  "language_info": {
   "codemirror_mode": {
    "name": "ipython",
    "version": 3
   },
   "file_extension": ".py",
   "mimetype": "text/x-python",
   "name": "python",
   "nbconvert_exporter": "python",
   "pygments_lexer": "ipython3",
   "version": "3.7.7"
  }
 },
 "nbformat": 4,
 "nbformat_minor": 5
}
