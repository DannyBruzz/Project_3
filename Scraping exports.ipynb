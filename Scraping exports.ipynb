{
 "cells": [
  {
   "cell_type": "code",
   "execution_count": 97,
   "id": "3bda7f87",
   "metadata": {},
   "outputs": [],
   "source": [
    "import requests\n",
    "import os\n",
    "from splinter import Browser\n",
    "import pandas as pd\n",
    "from webdriver_manager.chrome import ChromeDriverManager"
   ]
  },
  {
   "cell_type": "code",
   "execution_count": 98,
   "id": "89bf4242",
   "metadata": {},
   "outputs": [],
   "source": [
    "executable_path = {'executable_path': ChromeDriverManager().install()}\n",
    "browser = Browser('chrome', **executable_path, headless=False)"
   ]
  },
  {
   "cell_type": "code",
   "execution_count": null,
   "id": "737fcf9b",
   "metadata": {},
   "outputs": [],
   "source": [
    "url = 'https://oec.world/en/profile/bilateral-product/gold/reporter/aus?latestTrendsViewSelector=latestTrendsViewOption0'\n",
    "browser.visit(url)\n",
    "html = browser.html\n",
    "soup = BeautifulSoup(html, \"html.parser\")\n",
    "country_list = []\n",
    "text_area = soup.find(\"p\", class_=\"cp-section-paragraph cp-multi-column-section-paragraph\")\n",
    "paragragh =  text_area.text\n",
    "links = text_area.find_all(\"a\")\n",
    "for link in links:\n",
    "    country_list.append(link.text)\n",
    "browser.quit()\n",
    "country_list1 = country_list[-5:]\n",
    "print(country_list1)\n",
    "data = []\n",
    "for ix, char in enumerate(paragragh):\n",
    "    if char == '(':\n",
    "        data.append(paragragh[ix+2 : ix+6])\n",
    "print(data)"
   ]
  },
  {
   "cell_type": "code",
   "execution_count": 100,
   "id": "f1a1225d",
   "metadata": {},
   "outputs": [
    {
     "name": "stdout",
     "output_type": "stream",
     "text": [
      "['8.25', '2.75', '1.63', '1.29', '1.13']\n"
     ]
    }
   ],
   "source": [
    "print(data)"
   ]
  },
  {
   "cell_type": "code",
   "execution_count": 87,
   "id": "ecd579bd",
   "metadata": {},
   "outputs": [],
   "source": [
    "# url = 'https://oec.world/en/profile/bilateral-product/gold/reporter/aus?latestTrendsViewSelector=latestTrendsViewOption0'\n",
    "# browser.visit(url)\n",
    "# html = browser.html\n",
    "# soup = BeautifulSoup(html, \"html.parser\")\n",
    "# country_list = []\n",
    "# text_area = soup.find(\"p\", class_=\"cp-section-paragraph cp-multi-column-section-paragraph\")\n",
    "# links = text_area.find_all(\"a\")\n",
    "# for link in links:\n",
    "#     country_list.append(link.text)\n",
    "# browser.quit()\n",
    "# country_list1 = country_list[-5:]\n",
    "# print(country_list1)\n"
   ]
  },
  {
   "cell_type": "code",
   "execution_count": 88,
   "id": "60e97ad4",
   "metadata": {},
   "outputs": [
    {
     "name": "stdout",
     "output_type": "stream",
     "text": [
      "Exports In 2020,  Australia exported $17.7B in  Gold, making it the 5th largest exporter of  Gold in the world. At the same year,  Gold was the 4th most exported product in  Australia. The main destination of  Gold exports from  Australia are:  United Kingdom  ($8.25B),  United States  ($2.75B),  Switzerland  ($1.63B),  Hong Kong  ($1.29B),  and  China  ($1.13B).\n"
     ]
    }
   ],
   "source": []
  },
  {
   "cell_type": "code",
   "execution_count": 92,
   "id": "d602fa02",
   "metadata": {},
   "outputs": [
    {
     "name": "stdout",
     "output_type": "stream",
     "text": [
      "8.25\n",
      "2.75\n",
      "1.63\n",
      "1.29\n",
      "1.13\n"
     ]
    }
   ],
   "source": [
    "for ix, char in enumerate(paragragh):\n",
    "    if char == '(':\n",
    "        print(paragragh[ix+2 : ix+6])"
   ]
  },
  {
   "cell_type": "code",
   "execution_count": null,
   "id": "7e163472",
   "metadata": {
    "scrolled": true
   },
   "outputs": [],
   "source": [
    "\n"
   ]
  },
  {
   "cell_type": "code",
   "execution_count": null,
   "id": "06502153",
   "metadata": {},
   "outputs": [],
   "source": []
  },
  {
   "cell_type": "code",
   "execution_count": null,
   "id": "50a72b28",
   "metadata": {},
   "outputs": [],
   "source": []
  },
  {
   "cell_type": "code",
   "execution_count": null,
   "id": "6f514fe7",
   "metadata": {},
   "outputs": [],
   "source": []
  },
  {
   "cell_type": "code",
   "execution_count": null,
   "id": "51433a5d",
   "metadata": {},
   "outputs": [],
   "source": []
  },
  {
   "cell_type": "code",
   "execution_count": null,
   "id": "843593ea",
   "metadata": {},
   "outputs": [],
   "source": []
  },
  {
   "cell_type": "code",
   "execution_count": null,
   "id": "60477498",
   "metadata": {},
   "outputs": [],
   "source": []
  },
  {
   "cell_type": "code",
   "execution_count": null,
   "id": "0a44a039",
   "metadata": {},
   "outputs": [],
   "source": []
  },
  {
   "cell_type": "code",
   "execution_count": null,
   "id": "dc1d3c00",
   "metadata": {},
   "outputs": [],
   "source": []
  },
  {
   "cell_type": "code",
   "execution_count": null,
   "id": "4d799c6f",
   "metadata": {},
   "outputs": [],
   "source": []
  },
  {
   "cell_type": "code",
   "execution_count": null,
   "id": "7c7f2414",
   "metadata": {},
   "outputs": [],
   "source": []
  }
 ],
 "metadata": {
  "kernelspec": {
   "display_name": "Python [conda env:PythonData] *",
   "language": "python",
   "name": "conda-env-PythonData-py"
  },
  "language_info": {
   "codemirror_mode": {
    "name": "ipython",
    "version": 3
   },
   "file_extension": ".py",
   "mimetype": "text/x-python",
   "name": "python",
   "nbconvert_exporter": "python",
   "pygments_lexer": "ipython3",
   "version": "3.7.7"
  }
 },
 "nbformat": 4,
 "nbformat_minor": 5
}
