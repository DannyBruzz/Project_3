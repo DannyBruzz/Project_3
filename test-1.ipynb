{
 "cells": [
  {
   "cell_type": "markdown",
   "metadata": {},
   "source": [
    "## ELT"
   ]
  },
  {
   "cell_type": "code",
   "execution_count": 1,
   "metadata": {},
   "outputs": [],
   "source": [
    "# Import Dependencies\n",
    "import pandas as pd\n",
    "\n",
    "from sqlalchemy import create_engine\n",
    "from sqlalchemy import inspect"
   ]
  },
  {
   "cell_type": "code",
   "execution_count": null,
   "metadata": {},
   "outputs": [],
   "source": [
    "# Make a reference to the solar_data_by_postcode.csv file path\n",
    "csv_path = \"Resources/solar_data_by_postcode.csv\"\n",
    "\n",
    "# Import the solar_data_by_postcode.csv file as a DataFrame\n",
    "solar_df = pd.read_csv(csv_path, encoding=\"utf-8\")\n",
    "# Check the csv imported correctly\n",
    "print(solar_df.shape)\n",
    "solar_df.head()"
   ]
  },
  {
   "cell_type": "code",
   "execution_count": null,
   "metadata": {},
   "outputs": [],
   "source": []
  }
 ],
 "metadata": {
  "kernelspec": {
   "display_name": "Python 3.7.7 ('PythonData')",
   "language": "python",
   "name": "python3"
  },
  "language_info": {
   "codemirror_mode": {
    "name": "ipython",
    "version": 3
   },
   "file_extension": ".py",
   "mimetype": "text/x-python",
   "name": "python",
   "nbconvert_exporter": "python",
   "pygments_lexer": "ipython3",
   "version": "3.7.7"
  },
  "orig_nbformat": 4,
  "vscode": {
   "interpreter": {
    "hash": "fc0bb293cbca8218ec797ab9fc01fcc16781a8e859e5b341e3a25b2353295d62"
   }
  }
 },
 "nbformat": 4,
 "nbformat_minor": 2
}
